{
 "cells": [
  {
   "cell_type": "markdown",
   "metadata": {},
   "source": [
    "### 2018年10月11日作业  \n",
    " #### 阅读 python 和 numpy 教程和代码写一个矩阵的类，实现矩阵乘法，只能使用 python 的类(class)和列表(list)"
   ]
  },
  {
   "cell_type": "code",
   "execution_count": 62,
   "metadata": {},
   "outputs": [],
   "source": [
    "class Matrix(object):\n",
    "    \n",
    "    # Constructor  row:行数；column:列数\n",
    "    def __init__(self, row, column, fill=0.0):\n",
    "        self.shape = (row, column)\n",
    "        self.row = row\n",
    "        self.column = column\n",
    "        self._matrix = [[fill] * column for i in range(row)]\n",
    "        \n",
    "    # 返回元素m(i,j)的值： m[i, j] \n",
    "    def __getitem__(self, index):\n",
    "        # isinstance() 函数来判断一个对象是否是一个已知的类型\n",
    "        if isinstance(index, int):\n",
    "            return self._matrix[index - 1]\n",
    "        elif isinstance(index, tuple):\n",
    "            return self._matrix[index[0] - 1][index[1] - 1]\n",
    "\n",
    "    # 设置元素m(i,j)的值为s： m[i, j] = s\n",
    "    def __setitem__(self, index, value):\n",
    "        if isinstance(index, int):\n",
    "            self._matrix[index - 1] = copy.deepcopy(value)\n",
    "        elif isinstance(index, tuple):\n",
    "            self._matrix[index[0] - 1][index[1] - 1] = value\n",
    "     \n",
    "    # A * B (或：A * 2.0)       \n",
    "    def __mul__(self, N):\n",
    "        if isinstance(N, int) or isinstance(N,float):\n",
    "            M = Matrix(self.row, self.column)\n",
    "            for r in range(self.row):\n",
    "                for c in range(self.column):\n",
    "                    M[r, c] = self[r, c]*N\n",
    "        else:\n",
    "            assert N.row == self.column, \"维度不匹配，不能相乘\"\n",
    "            M = Matrix(self.row, N.column)\n",
    "            for r in range(self.row):\n",
    "                for c in range(N.column):\n",
    "                    sum = 0\n",
    "                    for k in range(self.column):\n",
    "                        sum += self[r, k] * N[k, r]\n",
    "                    M[r, c] = sum\n",
    "        return M       \n",
    "\n",
    "    # 展示矩阵\n",
    "    def show(self):\n",
    "        for r in range(self.row):\n",
    "            for c in range(self.column):\n",
    "                print('',self._matrix[r][c], end=' ') \n",
    "            print()"
   ]
  },
  {
   "cell_type": "code",
   "execution_count": 64,
   "metadata": {},
   "outputs": [
    {
     "name": "stdout",
     "output_type": "stream",
     "text": [
      " 12.0  12.0  12.0 \n",
      " 12.0  12.0  12.0 \n",
      " 12.0  12.0  12.0 \n"
     ]
    }
   ],
   "source": [
    "m = Matrix(3,2,fill=2.0)\n",
    "n = Matrix(2,3,fill=3.0)\n",
    "p = m*n\n",
    "p.show()"
   ]
  },
  {
   "cell_type": "code",
   "execution_count": 66,
   "metadata": {},
   "outputs": [
    {
     "name": "stdout",
     "output_type": "stream",
     "text": [
      " 1  2 \n",
      " 4  5 \n",
      " 7  8 \n"
     ]
    }
   ],
   "source": [
    "m[1] = [1,2]\n",
    "m[2] = [4,5]\n",
    "m[3] = [7,8]\n",
    "m.show()"
   ]
  },
  {
   "cell_type": "code",
   "execution_count": 67,
   "metadata": {},
   "outputs": [
    {
     "name": "stdout",
     "output_type": "stream",
     "text": [
      " 9.0  9.0  9.0 \n",
      " 27.0  27.0  27.0 \n",
      " 45.0  45.0  45.0 \n"
     ]
    }
   ],
   "source": [
    "p = m*n\n",
    "p.show()"
   ]
  },
  {
   "cell_type": "code",
   "execution_count": null,
   "metadata": {},
   "outputs": [],
   "source": []
  }
 ],
 "metadata": {
  "kernelspec": {
   "display_name": "Python 3",
   "language": "python",
   "name": "python3"
  },
  "language_info": {
   "codemirror_mode": {
    "name": "ipython",
    "version": 3
   },
   "file_extension": ".py",
   "mimetype": "text/x-python",
   "name": "python",
   "nbconvert_exporter": "python",
   "pygments_lexer": "ipython3",
   "version": "3.6.5"
  }
 },
 "nbformat": 4,
 "nbformat_minor": 2
}
